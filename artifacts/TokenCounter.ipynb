{
 "cells": [
  {
   "cell_type": "markdown",
   "id": "9fb3b5bd-1a57-4527-b138-818832fa8ced",
   "metadata": {},
   "source": [
    "# Counting Tokens"
   ]
  },
  {
   "cell_type": "code",
   "execution_count": 33,
   "id": "1f5befd8-bb4e-4529-bccf-b208fd06c384",
   "metadata": {
    "tags": []
   },
   "outputs": [
    {
     "name": "stdout",
     "output_type": "stream",
     "text": [
      "Prompt Token Count: 6\n",
      "Prompt Character Count: 16\n",
      "The sky appears blue due to a phenomenon called **Rayleigh scattering**. Here's a simplified explanation:\n",
      "\n",
      "* **Sunlight is made up of all colors of the rainbow.**  These colors have different wavelengths, with blue having a shorter wavelength than red.\n",
      "* **When sunlight enters the Earth's atmosphere, it interacts with the tiny gas molecules.** These molecules are much smaller than the wavelengths of visible light.\n",
      "* **Shorter wavelengths (like blue) scatter more easily than longer wavelengths (like red).** This means blue light is scattered in all directions by the air molecules.\n",
      "* **We see this scattered blue light coming from all directions in the sky.** This is why the sky appears blue, especially on clear days.\n",
      "\n",
      "**Here's a helpful analogy:**\n",
      "\n",
      "Imagine shining a flashlight through a room filled with smoke. The light will scatter, and you'll see the smoke glowing. Similarly, sunlight scatters off the air molecules, and we see the scattered blue light.\n",
      "\n",
      "**Why is the sky red at sunset?**\n",
      "\n",
      "When the sun is low on the horizon, its light has to travel through more atmosphere to reach us. This means more blue light is scattered away, leaving the longer wavelengths (red and orange) to reach our eyes.\n",
      "\n",
      "Let me know if you'd like to know more about this phenomenon! \n",
      "\n",
      "Prompt Token Count: 6\n",
      "Total Token Count: 281\n"
     ]
    }
   ],
   "source": [
    "import vertexai\n",
    "from vertexai.generative_models import GenerativeModel\n",
    "\n",
    "\n",
    "project_id = \"gen-lang-client-0694848451\"\n",
    "\n",
    "vertexai.init(project=project_id, location=\"us-east4\")\n",
    "\n",
    "model = GenerativeModel(model_name=\"gemini-1.5-flash-001\")\n",
    "\n",
    "prompt = \"Why is the sky blue?\"\n",
    "\n",
    "# Prompt tokens count\n",
    "response = model.count_tokens(prompt)\n",
    "print(f\"Prompt Token Count: {response.total_tokens}\")\n",
    "print(f\"Prompt Character Count: {response.total_billable_characters}\")\n",
    "\n",
    "# Send text to Gemini\n",
    "response = model.generate_content(prompt)\n",
    "\n",
    "# print out the response\n",
    "print(response.text)\n",
    "# Response tokens count\n",
    "usage_metadata = response.usage_metadata\n",
    "print(f\"Prompt Token Count: {usage_metadata.prompt_token_count}\")\n",
    "print(f\"Total Token Count: {usage_metadata.total_token_count}\")\n"
   ]
  },
  {
   "cell_type": "markdown",
   "id": "91764776-2ae9-4f24-9c3d-cd6a7550556a",
   "metadata": {},
   "source": [
    "## Top_p"
   ]
  },
  {
   "cell_type": "code",
   "execution_count": 29,
   "id": "ac95c1e6-4e6d-4493-bac1-5c086828a8fa",
   "metadata": {
    "tags": []
   },
   "outputs": [
    {
     "name": "stdout",
     "output_type": "stream",
     "text": [
      "\n",
      "**top_p = 0.1:**\n",
      "The sun, a giant golden orb, hung high in the sky, casting a warm, golden glow over the beach. The sand, still cool from the night, shimmered like a million tiny diamonds under the bright light. The air was alive with the sound of crashing waves, a rhythmic symphony that lulled the soul into a state of peaceful contentment. \n",
      "\n",
      "Children shrieked with delight as they chased the retreating waves, their laughter echoing across the shore. Families picnicked under colorful umbrellas, the scent of sunscreen and barbecue mingling with the salty tang of the ocean breeze. \n",
      "\n",
      "Further down the beach, surfers rode the waves, their bodies carving graceful arcs through the water. Seagulls soared overhead, their cries a constant soundtrack to the day. The gentle breeze carried the scent of salt and seaweed, a reminder of the vastness of the ocean that stretched out before them.\n",
      "\n",
      "The sun, a benevolent presence, bathed the beach in its warmth, turning the sand into a canvas of golden hues. The day was a tapestry of vibrant colors, the blue of the sky, the green of the waves, the white of the sand, all blending together in a symphony of beauty. It was a day to be savored, a day to feel the warmth of the sun on your skin, the sand between your toes, and the salty air in your lungs. It was a day to simply be, to lose yourself in the rhythm of the ocean and the beauty of the world. \n",
      "\n",
      "\n",
      "**top_p = 0.5:**\n",
      "The sun, a giant golden orb, hung high in the sky, casting a warm, golden glow over the endless expanse of the ocean. The air, thick with the scent of salt and sunscreen, vibrated with the joyful sounds of laughter and chatter.  \n",
      "\n",
      "Soft, white sand, warm beneath bare feet, stretched out like a welcoming carpet. Children squealed with delight as they built sandcastles, their tiny hands shaping moats and towers.  \n",
      "\n",
      "The waves, a gentle symphony of turquoise and blue, rolled in rhythmically, their foamy crests whispering secrets to the shore.  Seagulls soared overhead, their cries echoing across the beach, while a lone sailboat, a white speck against the azure canvas, glided gracefully across the horizon. \n",
      "\n",
      "Beach umbrellas, like colorful mushrooms, dotted the landscape, offering shade to sunbathers who lay sprawled on towels, their faces turned towards the sun, their bodies basking in the warmth.  \n",
      "\n",
      "The gentle breeze carried the scent of coconut and barbecue, a tantalizing aroma that wafted from nearby food stalls.  The air was alive with the energy of life, a vibrant tapestry woven from the laughter of children, the murmur of conversations, and the rhythmic crash of waves. \n",
      "\n",
      "This was a perfect day at the beach, a day to be savored, a day to remember. \n",
      "\n",
      "\n",
      "**top_p = 0.9:**\n",
      "The sun, a giant golden orb, hung high in the sky, casting a warm, benevolent glow over the beach. The sand, a shimmering expanse of fine, white grains, stretched out before me like a vast, inviting canvas. The air was alive with the sweet, salty tang of the ocean, a symphony of crashing waves and playful seagulls.\n",
      "\n",
      "The gentle breeze carried the scent of sunscreen and coconut, a heady mix that whispered of summer days and carefree moments. Children shrieked with delight as they chased after retreating waves, their laughter echoing across the beach. Couples strolled hand-in-hand along the shoreline, their faces etched with contentment.\n",
      "\n",
      "The turquoise water, a mesmerizing blend of blue and green, shimmered and sparkled under the sun. It beckoned me with its cool embrace, promising respite from the day's warmth. I felt the sun's warmth on my skin, a comforting caress that melted away any lingering stress.\n",
      "\n",
      "The beach was a tapestry of vibrant colors: the bright hues of beach towels, the vivid shades of umbrellas, and the kaleidoscope of swimwear worn by sunbathers. The rhythmic roar of the ocean provided a soothing soundtrack to the day, a constant reminder of nature's power and beauty.\n",
      "\n",
      "As I sat on the soft sand, the world seemed to slow down. Time became irrelevant, replaced by the simple pleasures of the moment. The sun, the sand, the sea – a perfect trifecta of tranquility and joy. This was a sunny day at the beach, a day to savor and cherish, a day that would forever remain etched in my memory. \n",
      "\n"
     ]
    }
   ],
   "source": [
    "import vertexai\n",
    "from vertexai.generative_models import GenerativeModel\n",
    "from vertexai.generative_models import GenerationConfig\n",
    "import time\n",
    "\n",
    "project_id = \"gen-lang-client-0694848451\"  # Replace with your actual project ID\n",
    "vertexai.init(project=project_id, location=\"us-east4\")\n",
    "model = GenerativeModel(model_name=\"gemini-1.5-flash-001\")\n",
    "\n",
    "prompt = \"Describe a sunny day at the beach.\"\n",
    "\n",
    "for top_p_value in [0.1, 0.5, 0.9]:\n",
    "    generation_config = GenerationConfig(\n",
    "        top_p=top_p_value,\n",
    "        temperature=0.7,  # Keep temperature constant for this comparison\n",
    "        max_output_tokens=500\n",
    "    )\n",
    "    time.sleep(15)\n",
    "\n",
    "    response = model.generate_content(prompt, generation_config=generation_config)\n",
    "\n",
    "    print(f\"\\n**top_p = {top_p_value}:**\\n{response.text}\")\n"
   ]
  }
 ],
 "metadata": {
  "environment": {
   "kernel": "python3",
   "name": "tf2-cpu.2-11.m122",
   "type": "gcloud",
   "uri": "us-docker.pkg.dev/deeplearning-platform-release/gcr.io/tf2-cpu.2-11:m122"
  },
  "kernelspec": {
   "display_name": "Python 3",
   "language": "python",
   "name": "python3"
  },
  "language_info": {
   "codemirror_mode": {
    "name": "ipython",
    "version": 3
   },
   "file_extension": ".py",
   "mimetype": "text/x-python",
   "name": "python",
   "nbconvert_exporter": "python",
   "pygments_lexer": "ipython3",
   "version": "3.10.14"
  }
 },
 "nbformat": 4,
 "nbformat_minor": 5
}
